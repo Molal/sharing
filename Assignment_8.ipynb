{
  "nbformat": 4,
  "nbformat_minor": 0,
  "metadata": {
    "colab": {
      "name": "Assignment 8.ipynb",
      "provenance": [],
      "authorship_tag": "ABX9TyOSVjJlGbY7O+4E3sat4bPa",
      "include_colab_link": true
    },
    "kernelspec": {
      "name": "python3",
      "display_name": "Python 3"
    },
    "language_info": {
      "name": "python"
    }
  },
  "cells": [
    {
      "cell_type": "markdown",
      "metadata": {
        "id": "view-in-github",
        "colab_type": "text"
      },
      "source": [
        "<a href=\"https://colab.research.google.com/github/Molal/sharing/blob/main/Assignment_8.ipynb\" target=\"_parent\"><img src=\"https://colab.research.google.com/assets/colab-badge.svg\" alt=\"Open In Colab\"/></a>"
      ]
    },
    {
      "cell_type": "code",
      "metadata": {
        "colab": {
          "base_uri": "https://localhost:8080/"
        },
        "id": "Vsi2ZO0mwuNv",
        "outputId": "932fc7bd-4a1a-40d3-a871-48b776dbebcb"
      },
      "source": [
        "import json, requests\n",
        "data='https://raw.githubusercontent.com/normansimonr/Dumb-Cogs/master/lolz/data/tranzlashun.json'\n",
        "resp=requests.get(data)\n",
        "dictionary=json.loads(resp.text)\n",
        "#print(dictionary)\n",
        "\n",
        "dictionary = {\n",
        "    \"Marijuan\": \"Ndukulu\",\n",
        "    \"Gang\": \"Geri\",\n",
        "    \"Ciggarrette\": \"Gife\",\n",
        "    \"Money\": \"Dache\",\n",
        "    \"Pocket\": \"Mbosho\",\n",
        "    \"Friend\": \"Fafiri\",\n",
        "    \"Scavenge\": \"Hamoch\",\n",
        "    \"Tea\": \"Icha\",\n",
        "    \"Come\": \"Kamuthe\",\n",
        "    \"Player\": \"Lovito\",\n",
        "    \"Rastamen\": \"Mabingi\",\n",
        "    \"Judge\": \"Jajiko\",\n",
        "    \"Job\": \"Jobiso\"\n",
        "}\n",
        "word = input(\"Original word:\")\n",
        "if word in dictionary:\n",
        "  print(\"The translation is:\", dictionary[word])\n",
        "else:\n",
        "  print(\"sory, the word has no translation in the dictionary.\")\n",
        "\n",
        "f = open(\"dictionary\", \"a\")\n",
        "f.write(str({\n",
        "    \"Marijuan\": \"Ndukulu\",\n",
        "    \"Gang\": \"Geri\",\n",
        "    \"Ciggarrette\": \"Gife\",\n",
        "    \"Money\": \"Dache\",\n",
        "    \"Pocket\": \"Mbosho\",\n",
        "    \"Friend\": \"Fafiri\",\n",
        "    \"Scavenge\": \"Hamoch\",\n",
        "    \"Tea\": \"Icha\",\n",
        "    \"Come\": \"Kamuthe\",\n",
        "    \"Player\": \"Lovito\",\n",
        "    \"Rastamen\": \"Mabingi\",\n",
        "    \"Judge\": \"Jajiko\",\n",
        "    \"Job\": \"Jobiso\"\n",
        "}))\n",
        "f.close()\n",
        "\n",
        "#open and read the file after the appending:\n",
        "f = open(\"dictionary\", \"r\")\n",
        "print(f.read())\n",
        "f.close()"
      ],
      "execution_count": 2,
      "outputs": [
        {
          "output_type": "stream",
          "text": [
            "Original word: Tea \n",
            "sory, the word has no translation in the dictionary.\n",
            "{'Marijuan': 'Ndukulu', 'Gang': 'Geri', 'Ciggarrette': 'Gife', 'Money': 'Dache', 'Pocket': 'Mbosho', 'Friend': 'Fafiri', 'Scavenge': 'Hamoch', 'Tea': 'Icha', 'Come': 'Kamuthe', 'Player': 'Lovito', 'Rastamen': 'Mabingi', 'Judge': 'Jajiko', 'Job': 'Jobiso'}{'Marijuan': 'Ndukulu', 'Gang': 'Geri', 'Ciggarrette': 'Gife', 'Money': 'Dache', 'Pocket': 'Mbosho', 'Friend': 'Fafiri', 'Scavenge': 'Hamoch', 'Tea': 'Icha', 'Come': 'Kamuthe', 'Player': 'Lovito', 'Rastamen': 'Mabingi', 'Judge': 'Jajiko', 'Job': 'Jobiso'}\n"
          ],
          "name": "stdout"
        }
      ]
    }
  ]
}