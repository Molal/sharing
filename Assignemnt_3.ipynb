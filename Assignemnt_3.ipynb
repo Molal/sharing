{
  "nbformat": 4,
  "nbformat_minor": 0,
  "metadata": {
    "colab": {
      "name": "Assignemnt 3.ipynb",
      "provenance": [],
      "include_colab_link": true
    },
    "kernelspec": {
      "name": "python3",
      "display_name": "Python 3"
    },
    "language_info": {
      "name": "python"
    }
  },
  "cells": [
    {
      "cell_type": "markdown",
      "metadata": {
        "id": "view-in-github",
        "colab_type": "text"
      },
      "source": [
        "<a href=\"https://colab.research.google.com/github/Molal/sharing/blob/main/Assignemnt_3.ipynb\" target=\"_parent\"><img src=\"https://colab.research.google.com/assets/colab-badge.svg\" alt=\"Open In Colab\"/></a>"
      ]
    },
    {
      "cell_type": "code",
      "metadata": {
        "colab": {
          "base_uri": "https://localhost:8080/"
        },
        "id": "aElbhPMRkeZi",
        "outputId": "b712d26b-8bf5-44fe-c00b-93224197a83f"
      },
      "source": [
        "#Assignment 1 \n",
        "#Enter your Name\n",
        "name= input(\"Enter first and last name:\")\n",
        "print(name)\n",
        "print()\n",
        "#Enter your goals for this class\n",
        "print(\"What are your goals for this class - long term goals?\")\n",
        "\n",
        "# Example\n",
        "print(\"LONG TERM GOAL\")\n",
        "longTermGoal = input(\"Enter your long term goal\")\n",
        "\n",
        "print (\"SHORT TERM GOALS\")\n",
        "Goal1 = input(\"My first goal:\")\n",
        "Goal2 = input(\"My second goal:\")\n",
        "\n",
        "goals = input('What would you like to be....when all is said and done with the class?')\n",
        "print(goals)"
      ],
      "execution_count": null,
      "outputs": [
        {
          "output_type": "stream",
          "text": [
            "Enter first and last name: Olal Darick \n",
            " Olal Darick \n",
            "\n",
            "What are your goals for this class - long term goals?\n",
            "LONG TERM GOAL\n",
            "Enter your long term goal Sharpening my Machine learning skills \n",
            "SHORT TERM GOALS\n",
            "My first goal: understand python techniques \n",
            "My second goal: Be a good statistician \n",
            "What would you like to be....when all is said and done with the class?  understand python techniques \n",
            "  understand python techniques \n"
          ],
          "name": "stdout"
        }
      ]
    },
    {
      "cell_type": "code",
      "metadata": {
        "colab": {
          "base_uri": "https://localhost:8080/"
        },
        "id": "Mr4DYaDzk1yz",
        "outputId": "752f00d0-1e7c-41fd-dd07-73d114f6bc8d"
      },
      "source": [
        "#Assignment 2 \n",
        "#Enter first and last name\n",
        "# Again I prefer you enter First name in a different input with the last name e.g\n",
        "FirstName= input(\"Enter First name:\")\n",
        "LastName = input(\"Enter Last name:\")\n",
        "names = input(\"Enter first and last name\")\n",
        "#You the print as you concatinate the two e.g\n",
        "print(\" NAME: \" + FirstName + LastName )\n",
        "print(names)\n",
        "print()\n",
        "#Enter your goals for this class\n",
        "print(\"What are your goals for this class - long term goals?\")\n",
        "goals = input('What would you like to be....when all is said and done with the class?')\n",
        "print(goals)"
      ],
      "execution_count": null,
      "outputs": [
        {
          "output_type": "stream",
          "text": [
            "Enter First name: Olal \n",
            "Enter Last name: Darick \n",
            "Enter first and last name Olal Darick \n",
            " NAME:  Olal  Darick \n",
            " Olal Darick \n",
            "\n",
            "What are your goals for this class - long term goals?\n",
            "What would you like to be....when all is said and done with the class? To understand python techniques \n",
            " To understand python techniques \n"
          ],
          "name": "stdout"
        }
      ]
    },
    {
      "cell_type": "code",
      "metadata": {
        "colab": {
          "base_uri": "https://localhost:8080/"
        },
        "id": "LSpX0IkxlRy_",
        "outputId": "829d8be0-b7b8-4b4b-c15a-2d3ccb8e44d6"
      },
      "source": [
        "# Assignment 3\n",
        "#........ and shoot for the Sky in you getting a big promotion & opportunity\n",
        "#Enter Full Names\n",
        "print(\"Enter First and Last Name:\")\n",
        "fname = input(\"fname:\") #First Name.\n",
        "lname = input(\"lname:\") #last Name. \n",
        "fullnames = (fname + \" \" + lname)\n",
        " \n",
        "#Enter phone, email\n",
        "print(\"Enter Customer's Phone Number:\") \n",
        "phone = input(\"phone\")\n",
        "print(\"Enter Customer's email aaddress:\")\n",
        "email = input(\"Email\")\n",
        " \n",
        "#price of a used car\n",
        "price = 10000  \n",
        "has_good_credit = True \n",
        " \n",
        "if has_good_credit:\n",
        "    down_payment = 0.1 * price\n",
        "else:\n",
        "    down_payment = 0.2 * price\n",
        " \n",
        "print('')\n",
        "print(\"Full Names:\" + fullnames) \n",
        "print(\"Phone: \" + phone)\n",
        "print(\"Email: \" + email)\n",
        "#print(\"Down Payment:\"  + down_payment)\n",
        "print(\"down_payment: \" + str(down_payment)) "
      ],
      "execution_count": null,
      "outputs": [
        {
          "output_type": "stream",
          "text": [
            "Enter First and Last Name:\n",
            "fname: Olal \n",
            "lname: Derrick \n",
            "Enter Customer's Phone Number:\n",
            "phone 0723887642\n",
            "Enter Customer's email aaddress:\n",
            "Email dolal@gmail.com \n",
            "\n",
            "Full Names: Olal   Derrick \n",
            "Phone:  0723887642\n",
            "Email:  dolal@gmail.com \n",
            "down_payment: 1000.0\n"
          ],
          "name": "stdout"
        }
      ]
    },
    {
      "cell_type": "code",
      "metadata": {
        "colab": {
          "base_uri": "https://localhost:8080/"
        },
        "id": "9-fm5TW1lp5H",
        "outputId": "3ec47180-2102-4d8b-cc62-41be0b75c98f"
      },
      "source": [
        "# Assignemnt 4 \n",
        "#Enter the price of the House you wish to Buy\n",
        "print(\"Enter the house price\")\n",
        "price = input()\n",
        "#Enter the credit score\n",
        "print(\"Enter the credit score\")\n",
        "CreditScore = input()\n",
        "print(\"Enter the first name\")\n",
        "first_name = input()\n",
        "#Enter the last name\n",
        "print(\"Enter the last name\")\n",
        "last_name = input()\n",
        "fullnames = first_name + \" \" + last_name\n",
        "print(fullnames)\n",
        "print(\"Enter the email address\")\n",
        "email = input()\n",
        "#Enter the phone number\n",
        "print(\"Enter the phone number\")\n",
        "phone = input()\n",
        "#Enter the mailing\n",
        "print(\"Enter the mailing address\")\n",
        "mailing = input()\n",
        "#Enter the mailing\n",
        "print(\"Enter the City\")\n",
        "city = input()\n",
        "#Enter the mailing\n",
        "print(\"Enter the zip code\")\n",
        "zipcode = input()\n",
        "#Qualify for loans with the best interest rates\n",
        "#use if for this the same \n",
        "price =int (input(\"Enter house price: \"))\n",
        "creditscore= int (input(\"Enter the credit score: \"))\n",
        "#Usually qualify for loans with the best interest rates\n",
        "if creditscore >= 780  and creditscore<= 850:\n",
        "  downPayment = 0.0 * price \n",
        "  print(\"Excellent Credit\")\n",
        "  print(\"Downpayment= \" + str (downPayment))\n",
        "#May face slightly higher loan Interest rates\n",
        "elif creditscore >=740 and creditscore <= 790:\n",
        "  downPayment = 0.2 *price\n",
        "  print(\"Very good credit\")\n",
        "  print(\"Downpayment= \" + str (downPayment))\n",
        "#May qualify for most loans of higher interest rates\n",
        "elif creditscore >= 720 and creditscore <= 739:\n",
        "  downPayment = 0.3 * price \n",
        "  print(\"Above Average credit\")\n",
        "  print(\"Downpayment= \" + str (downPayment))\n",
        "#May qualify for most loans at significant higher Interest rates\n",
        "elif creditscore >= 680 and creditscore <= 719:\n",
        "  downPayment = 0.6 * price\n",
        "  print(\"Average credit\") \n",
        "  print(\"Downpayment= \" + str (downPayment))\n",
        "#Usually has some credit issues; will probably not qualify for most loans\n",
        "elif creditscore >= 620 and creditscore <= 679:\n",
        "  downPayment = 0.18 * price \n",
        "  print(\"Below Average credit\")\n",
        "  print(\"Downpayment= \" + str (downPayment))\n",
        "elif creditscore >= 580 and creditscore <= 619:\n",
        "  downPayment = 0.20 * price \n",
        "  print(\"poor Credit score\")\n",
        "  print(\"Downpayment= \" + str (downPayment))\n",
        "#Facing extreme credit issue\n",
        "else: \n",
        "  print(\"Poor credit score\")\n",
        "  downPayment= 0.25 * price \n",
        "  print(\"Downpayment= \" + str (downPayment)) \n",
        "\n"
      ],
      "execution_count": 1,
      "outputs": [
        {
          "output_type": "stream",
          "text": [
            "Enter the house price\n",
            " 2500000\n",
            "Enter the credit score\n",
            " 234\n",
            "Enter the first name\n",
            " Olal \n",
            "Enter the last name\n",
            " Darick \n",
            " Olal   Darick \n",
            "Enter the email address\n",
            "dolal@maseno.ac.ke \n",
            "Enter the phone number\n",
            "+254723887642 \n",
            "Enter the mailing address\n",
            " dolal@gmail.com \n",
            "Enter the City\n",
            " Nairobi \n",
            "Enter the zip code\n",
            " 00100 \n",
            "Enter house price:  2500000\n",
            "Enter the credit score:  234\n",
            "Poor credit score\n",
            "Downpayment= 625000.0\n"
          ],
          "name": "stdout"
        }
      ]
    }
  ]
}