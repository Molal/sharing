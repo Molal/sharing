{
  "nbformat": 4,
  "nbformat_minor": 0,
  "metadata": {
    "colab": {
      "name": "Assignemnt 3.ipynb",
      "provenance": [],
      "include_colab_link": true
    },
    "kernelspec": {
      "name": "python3",
      "display_name": "Python 3"
    },
    "language_info": {
      "name": "python"
    }
  },
  "cells": [
    {
      "cell_type": "markdown",
      "metadata": {
        "id": "view-in-github",
        "colab_type": "text"
      },
      "source": [
        "<a href=\"https://colab.research.google.com/github/Molal/sharing/blob/main/Assignemnt_3.ipynb\" target=\"_parent\"><img src=\"https://colab.research.google.com/assets/colab-badge.svg\" alt=\"Open In Colab\"/></a>"
      ]
    },
    {
      "cell_type": "code",
      "metadata": {
        "colab": {
          "base_uri": "https://localhost:8080/"
        },
        "id": "aElbhPMRkeZi",
        "outputId": "2599faad-2d12-431a-bccf-0ca5d9bf7d50"
      },
      "source": [
        "#Assignment 1 \n",
        "#Enter your Name\n",
        "name= input(\"Enter first and last name:\")\n",
        "print(name)\n",
        "print()\n",
        "#Enter your goals for this class\n",
        "print(\"What are your goals for this class - long term goals?\")\n",
        "# I would prefer you create several input functions to enter several goals\n",
        "# Example\n",
        "print(\"LONG TERM GOAL\")\n",
        "# longTermGoal = Input(\"Enter your long term goal\")\n",
        "#Print(\"SHORT TERM GOALS\")\n",
        "#Goal1 = Input(\"My first goal\")\n",
        "#Goal2 = input(\"My second goal\")\n",
        "\n",
        "goals = input('What would you like to be....when all is said and done with the class?')\n",
        "print(goals)"
      ],
      "execution_count": null,
      "outputs": [
        {
          "output_type": "stream",
          "text": [
            "Enter first and last name: Olal Derrick \n",
            " Olal Derrick \n",
            "\n",
            "What are your goals for this class - long term goals?\n",
            "What would you like to be....when all is said and done with the class? To enhance my Machine learning skills \n",
            " To enhance my Machine learning skills \n"
          ],
          "name": "stdout"
        }
      ]
    },
    {
      "cell_type": "code",
      "metadata": {
        "colab": {
          "base_uri": "https://localhost:8080/"
        },
        "id": "Mr4DYaDzk1yz",
        "outputId": "3f65dafe-7bd3-4def-a78b-098dd760e311"
      },
      "source": [
        "#Assignment 2 \n",
        "#Enter first and last name\n",
        "names = input(\"Enter first and last name\")\n",
        "print(names)\n",
        "print()\n",
        "#Enter your goals for this class\n",
        "print(\"What are your goals for this class - long term goals?\")\n",
        "goals = input('What would you like to be....when all is said and done with the class?')\n",
        "print(goals)"
      ],
      "execution_count": null,
      "outputs": [
        {
          "output_type": "stream",
          "text": [
            "Enter first and last name John Abuto \n",
            " John Abuto \n",
            "\n",
            "What are your goals for this class - long term goals?\n",
            "What would you like to be....when all is said and done with the class? To enhance my deep learning skills \n",
            " To enhance my deep learning skills \n"
          ],
          "name": "stdout"
        }
      ]
    },
    {
      "cell_type": "code",
      "metadata": {
        "colab": {
          "base_uri": "https://localhost:8080/",
          "height": 377
        },
        "id": "LSpX0IkxlRy_",
        "outputId": "4d9f3196-bf32-4c3a-b4c9-f0a74d02f311"
      },
      "source": [
        "# Assignment 3\n",
        "#........ and shoot for the Sky in you getting a big promotion & opportunity\n",
        "#Enter Full Names\n",
        "print(\"Enter First and Last Name:\")\n",
        "fname = input(\"fname:\") #First Name.\n",
        "lname = input(\"lname:\") #last Name. \n",
        "fullnames = (fname + \" \" + lname)\n",
        " \n",
        "#Enter phone, email\n",
        "print(\"Enter Customer's Phone Number:\") \n",
        "phone = input(\"phone\")\n",
        "print(\"Enter Customer's email aaddress:\")\n",
        "email = input(\"Email\")\n",
        " \n",
        "#price of a used car\n",
        "price = 10000  \n",
        "has_good_credit = True \n",
        " \n",
        "if has_good_credit:\n",
        "    down_payment = 0.1 * price\n",
        "else:\n",
        "    down_payment = 0.2 * price\n",
        "print(down_payment + {down_payment})  \n",
        "print('')\n",
        "print(\"Full Names:\" + fullnames) \n",
        "print(\"Phone: \" + phone)\n",
        "print(\"Email: \" + email)\n",
        "print(\"Down Payment:\"  + down_payment)"
      ],
      "execution_count": null,
      "outputs": [
        {
          "output_type": "stream",
          "text": [
            "Enter First and Last Name:\n",
            "fname: Olal \n",
            "lname: Derrick \n",
            "Enter Customer's Phone Number:\n",
            "phone 0723887643\n",
            "Enter Customer's email aaddress:\n",
            "Email dolal@maseno.ac.ke \n"
          ],
          "name": "stdout"
        },
        {
          "output_type": "error",
          "ename": "TypeError",
          "evalue": "ignored",
          "traceback": [
            "\u001b[0;31m---------------------------------------------------------------------------\u001b[0m",
            "\u001b[0;31mTypeError\u001b[0m                                 Traceback (most recent call last)",
            "\u001b[0;32m<ipython-input-4-8b8e638dad75>\u001b[0m in \u001b[0;36m<module>\u001b[0;34m()\u001b[0m\n\u001b[1;32m     21\u001b[0m \u001b[0;32melse\u001b[0m\u001b[0;34m:\u001b[0m\u001b[0;34m\u001b[0m\u001b[0;34m\u001b[0m\u001b[0m\n\u001b[1;32m     22\u001b[0m     \u001b[0mdown_payment\u001b[0m \u001b[0;34m=\u001b[0m \u001b[0;36m0.2\u001b[0m \u001b[0;34m*\u001b[0m \u001b[0mprice\u001b[0m\u001b[0;34m\u001b[0m\u001b[0;34m\u001b[0m\u001b[0m\n\u001b[0;32m---> 23\u001b[0;31m \u001b[0mprint\u001b[0m\u001b[0;34m(\u001b[0m\u001b[0mdown_payment\u001b[0m \u001b[0;34m+\u001b[0m \u001b[0;34m{\u001b[0m\u001b[0mdown_payment\u001b[0m\u001b[0;34m}\u001b[0m\u001b[0;34m)\u001b[0m\u001b[0;34m\u001b[0m\u001b[0;34m\u001b[0m\u001b[0m\n\u001b[0m\u001b[1;32m     24\u001b[0m \u001b[0mprint\u001b[0m\u001b[0;34m(\u001b[0m\u001b[0;34m''\u001b[0m\u001b[0;34m)\u001b[0m\u001b[0;34m\u001b[0m\u001b[0;34m\u001b[0m\u001b[0m\n\u001b[1;32m     25\u001b[0m \u001b[0mprint\u001b[0m\u001b[0;34m(\u001b[0m\u001b[0;34m\"Full Names:\"\u001b[0m \u001b[0;34m+\u001b[0m \u001b[0mfullnames\u001b[0m\u001b[0;34m)\u001b[0m\u001b[0;34m\u001b[0m\u001b[0;34m\u001b[0m\u001b[0m\n",
            "\u001b[0;31mTypeError\u001b[0m: unsupported operand type(s) for +: 'float' and 'set'"
          ]
        }
      ]
    },
    {
      "cell_type": "code",
      "metadata": {
        "colab": {
          "base_uri": "https://localhost:8080/",
          "height": 598
        },
        "id": "9-fm5TW1lp5H",
        "outputId": "58160dd5-173d-4d4e-b21e-28d29371d109"
      },
      "source": [
        "# Assignemnt 4 \n",
        "#Enter the price of the House you wish to Buy\n",
        "print(\"Enter the house price\")\n",
        "price = input()\n",
        "#Enter the credit score\n",
        "print(\"Enter the credit score\")\n",
        "CreditScore = input()\n",
        "print(\"Enter the first name\")\n",
        "first_name = input()\n",
        "#Enter the last name\n",
        "print(\"Enter the last name\")\n",
        "last_name = input()\n",
        "fullnames = first_name + \" \" + last_name\n",
        "print(fullnames)\n",
        "print(\"Enter the email address\")\n",
        "email = input()\n",
        "#Enter the phone number\n",
        "print(\"Enter the phone number\")\n",
        "phone = input()\n",
        "#Enter the mailing\n",
        "print(\"Enter the mailing address\")\n",
        "mailing = input()\n",
        "#Enter the mailing\n",
        "print(\"Enter the City\")\n",
        "city = input()\n",
        "#Enter the mailing\n",
        "print(\"Enter the zip code\")\n",
        "zipcode = input()\n",
        "#Qualify for loans with the best interest rates\n",
        "CreditScore >= 780 & 850\n",
        "print(\"Excent Credit\")\n",
        "print(\"Zero Down Payment\")\n",
        "downPayment = 0.0 * price\n",
        "#Usually qualify for loans with the best interest rates\n",
        "CreditScore >= 740 & 779\n",
        "print(\"Very Good\")\n",
        "downPayment = 0.2 * price\n",
        "#May face slightly higher loan Interest rates\n",
        "CreditScore >= 720 & 739\n",
        "print(\"Above Average\")\n",
        "downPayment = 0.3 * price\n",
        "#May qualify for most loans of higher interest rates\n",
        "CreditScore >= 680 & 719\n",
        "print(\"Average\")\n",
        "downPayment = 0.6 * price\n",
        "#May qualify for most loans at significant higher Interest rates\n",
        "CreditScore >= 620 & 679\n",
        "print(\"Below Average\")\n",
        "downPayment = 0.18 * price\n",
        "#Usually has some credit issues; will probably not qualify for most loans\n",
        "CreditScore >= 580 & 619\n",
        "print(\"Poor Credit Score\")\n",
        "downPayment = 0.20 * price\n",
        "#Facing extreme credit issue\n",
        "CreditScore < 520\n",
        "print(\"Poor Credit Score\")\n",
        "downPayment = 0.25 * price"
      ],
      "execution_count": null,
      "outputs": [
        {
          "output_type": "stream",
          "text": [
            "Enter the house price\n",
            " 2340000\n",
            "Enter the credit score\n",
            "450\n",
            "Enter the first name\n",
            " Olal \n",
            "Enter the last name\n",
            "Derrick \n",
            " Olal  Derrick \n",
            "Enter the email address\n",
            " dolal@maseno.ac.ke \n",
            "Enter the phone number\n",
            " 0723887642\n",
            "Enter the mailing address\n",
            " 6345\n",
            "Enter the City\n",
            " Kisumu \n",
            "Enter the zip code\n",
            " 40100\n"
          ],
          "name": "stdout"
        },
        {
          "output_type": "error",
          "ename": "TypeError",
          "evalue": "ignored",
          "traceback": [
            "\u001b[0;31m---------------------------------------------------------------------------\u001b[0m",
            "\u001b[0;31mTypeError\u001b[0m                                 Traceback (most recent call last)",
            "\u001b[0;32m<ipython-input-9-17cd93404bee>\u001b[0m in \u001b[0;36m<module>\u001b[0;34m()\u001b[0m\n\u001b[1;32m     28\u001b[0m \u001b[0mzipcode\u001b[0m \u001b[0;34m=\u001b[0m \u001b[0minput\u001b[0m\u001b[0;34m(\u001b[0m\u001b[0;34m)\u001b[0m\u001b[0;34m\u001b[0m\u001b[0;34m\u001b[0m\u001b[0m\n\u001b[1;32m     29\u001b[0m \u001b[0;31m#Qualify for loans with the best interest rates\u001b[0m\u001b[0;34m\u001b[0m\u001b[0;34m\u001b[0m\u001b[0;34m\u001b[0m\u001b[0m\n\u001b[0;32m---> 30\u001b[0;31m \u001b[0mCreditScore\u001b[0m \u001b[0;34m>=\u001b[0m \u001b[0;36m780\u001b[0m \u001b[0;34m&\u001b[0m \u001b[0;36m850\u001b[0m\u001b[0;34m\u001b[0m\u001b[0;34m\u001b[0m\u001b[0m\n\u001b[0m\u001b[1;32m     31\u001b[0m \u001b[0mprint\u001b[0m\u001b[0;34m(\u001b[0m\u001b[0;34m\"Excent Credit\"\u001b[0m\u001b[0;34m)\u001b[0m\u001b[0;34m\u001b[0m\u001b[0;34m\u001b[0m\u001b[0m\n\u001b[1;32m     32\u001b[0m \u001b[0mprint\u001b[0m\u001b[0;34m(\u001b[0m\u001b[0;34m\"Zero Down Payment\"\u001b[0m\u001b[0;34m)\u001b[0m\u001b[0;34m\u001b[0m\u001b[0;34m\u001b[0m\u001b[0m\n",
            "\u001b[0;31mTypeError\u001b[0m: '>=' not supported between instances of 'str' and 'int'"
          ]
        }
      ]
    }
  ]
}