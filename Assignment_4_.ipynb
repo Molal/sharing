{
  "nbformat": 4,
  "nbformat_minor": 0,
  "metadata": {
    "colab": {
      "name": "Assignment 4 .ipynb",
      "provenance": [],
      "authorship_tag": "ABX9TyMNyZ6fbG7RozYd3mVy6i4a",
      "include_colab_link": true
    },
    "kernelspec": {
      "name": "python3",
      "display_name": "Python 3"
    },
    "language_info": {
      "name": "python"
    }
  },
  "cells": [
    {
      "cell_type": "markdown",
      "metadata": {
        "id": "view-in-github",
        "colab_type": "text"
      },
      "source": [
        "<a href=\"https://colab.research.google.com/github/Molal/sharing/blob/main/Assignment_4_.ipynb\" target=\"_parent\"><img src=\"https://colab.research.google.com/assets/colab-badge.svg\" alt=\"Open In Colab\"/></a>"
      ]
    },
    {
      "cell_type": "code",
      "metadata": {
        "id": "Yf4KS6zn4TPc"
      },
      "source": [
        ""
      ],
      "execution_count": null,
      "outputs": []
    },
    {
      "cell_type": "code",
      "metadata": {
        "colab": {
          "base_uri": "https://localhost:8080/"
        },
        "id": "TsL3-zhJ00uh",
        "outputId": "cca03511-f851-4ca7-ef60-ad34710677ba"
      },
      "source": [
        "# Assignemnt 4 \n",
        "#Enter the price of the House you wish to Buy\n",
        "print(\"Enter the house price\")\n",
        "price = float(input('house_price:'))\n",
        "#Enter the credit score\n",
        "print(\"Enter the credit score\")\n",
        "CreditScore = input()\n",
        "print(\"Enter the first name\")\n",
        "first_name = input()\n",
        "#Enter the last name\n",
        "print(\"Enter the last name\")\n",
        "last_name = input()\n",
        "fullnames = first_name + \" \" + last_name\n",
        "print(\"Enter the email address\")\n",
        "email = input()\n",
        "#Enter the phone number\n",
        "print(\"Enter the phone number\")\n",
        "phone = input()\n",
        "#Enter the mailing\n",
        "print(\"Enter the mailing address\")\n",
        "mailing = input()\n",
        "#Enter the mailing\n",
        "print(\"Enter the City\")\n",
        "city = input()\n",
        "#Enter the mailing\n",
        "print(\"Enter the zip code\")\n",
        "zipcode = input()\n",
        "#Qualify for loans with the best interest rates\n",
        "# for i in range ( creditscore) \n",
        "creditscore = 679 \n",
        "if creditscore >= 780 and creditscore <= 850: \n",
        "  print(\"Zero Down payment\")\n",
        "  downPayment = 0.0 * price \n",
        "elif creditscore >= 740 and creditscore <= 779 : \n",
        "  print(\"Very good\")\n",
        "  downPayment = 0.2 * price \n",
        "elif creditscore >= 720 and creditscore <= 739: \n",
        "  print(\"Above Average\")\n",
        "  downPayment = 0.3 * price \n",
        "elif creditscore >= 680 and creditscore <= 719: \n",
        "  print(\"Average\")\n",
        "  downPayment = 0.6 * price \n",
        "elif creditscore >= 620 and creditscore <= 679: \n",
        "  print(\"Below Average\")\n",
        "  downPayment = 0.18 * price \n",
        "elif creditscore >= 580 and creditscore <= 619: \n",
        "  print(\"Not qualified for a new house\") \n",
        "  downPayment = 0.20 * price\n",
        "  credit_status= (\"Poor credit Score\") \n",
        "else: \n",
        "  downPayment = 0.25 * price\n",
        "  print(\"Try next time\") \n",
        "print(\" \")\n",
        "\n",
        "print('Full Name: ' + fullnames )\n",
        "print('Email: ' + email)\n",
        "print('Phone: ' + phone)\n",
        "print('Mailing address: ' + mailing)\n",
        "print('City: ' + city)\n",
        "print('Zipcode: ' + zipcode)\n",
        "print(\"House Price: \", price)\n",
        "print('Credit score: ' , creditscore)\n",
        "print('Down Payment: ' , downPayment)\n",
        "print('Congratulations you now own your dream Home: ' , fullnames)\n",
        "print('='*60)\n"
      ],
      "execution_count": 7,
      "outputs": [
        {
          "output_type": "stream",
          "text": [
            "Enter the house price\n",
            "house_price: 245000\n",
            "Enter the credit score\n",
            " 800 \n",
            "Enter the first name\n",
            " Olal \n",
            "Enter the last name\n",
            " Derrick \n",
            "Enter the email address\n",
            " dolal@maseno.ac.ke \n",
            "Enter the phone number\n",
            " 0723887642 \n",
            "Enter the mailing address\n",
            " dolal@gmai;l.com \n",
            "Enter the City\n",
            " Nairobi \n",
            "Enter the zip code\n",
            " 00100 \n",
            "Below Average\n",
            " \n",
            "Full Name:  Olal   Derrick \n",
            "Email:  dolal@maseno.ac.ke \n",
            "Phone:  0723887642 \n",
            "Mailing address:  dolal@gmai;l.com \n",
            "City:  Nairobi \n",
            "Zipcode:  00100 \n",
            "House Price:  245000.0\n",
            "Credit score:  679\n",
            "Down Payment:  44100.0\n",
            "Congratulations you now own your dream Home:   Olal   Derrick \n",
            "============================================================\n"
          ],
          "name": "stdout"
        }
      ]
    }
  ]
}